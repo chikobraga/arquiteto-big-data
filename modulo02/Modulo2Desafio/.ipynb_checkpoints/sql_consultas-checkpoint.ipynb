{
 "cells": [
  {
   "cell_type": "code",
   "execution_count": null,
   "id": "7fbc97bf-04fa-4244-b594-ab7c70ba76d2",
   "metadata": {},
   "outputs": [],
   "source": [
    "repostas em sql\n",
    "\n",
    "#Qual o país que está em segundo lugar no ranking da média gral de vitórias? (independente do jogo)\n",
    "select p.nome_pais,avg(num_vitorias)  from jogador j\n",
    "inner join pais p on j.cod_pais = p.cod_pais \n",
    "group by p.nome_pais order by 2 DESC\n",
    "\n",
    "#Qual é a soma de derrotas do Brasil no jogo da Dama?\n",
    "select sum(num_derrotas) from jogador j \n",
    "inner join jogo j2 on j.cod_jogo = j2.cod_jogo\n",
    "inner join pais p on j.cod_pais = p.cod_pais \n",
    "where j2.nome_jogo  = 'Dama' and p.nome_pais  = 'Brasil'\n",
    "\n",
    "#Qual é o  jogo preferido entre o público masculino? \n",
    "select count(*),j2.nome_jogo  from jogador j \n",
    "inner join jogo j2 on j.cod_jogo = j2.cod_jogo \n",
    "where genero = 'Masculino'\n",
    "GROUP by j2.nome_jogo  order by 1 DESC "
   ]
  }
 ],
 "metadata": {
  "kernelspec": {
   "display_name": "Python 3 (ipykernel)",
   "language": "python",
   "name": "python3"
  },
  "language_info": {
   "codemirror_mode": {
    "name": "ipython",
    "version": 3
   },
   "file_extension": ".py",
   "mimetype": "text/x-python",
   "name": "python",
   "nbconvert_exporter": "python",
   "pygments_lexer": "ipython3",
   "version": "3.10.6"
  }
 },
 "nbformat": 4,
 "nbformat_minor": 5
}
