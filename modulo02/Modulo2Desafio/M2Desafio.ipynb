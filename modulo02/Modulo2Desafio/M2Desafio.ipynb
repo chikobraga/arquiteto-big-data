{
 "cells": [
  {
   "cell_type": "code",
   "execution_count": 15,
   "id": "4e064e8c-e103-4552-979c-599daf253abe",
   "metadata": {
    "tags": []
   },
   "outputs": [],
   "source": [
    "import pandas as pd\n",
    "import json"
   ]
  },
  {
   "cell_type": "markdown",
   "id": "12ff84cf-c682-42ad-b612-045f510ea600",
   "metadata": {},
   "source": [
    "**Abrinado os arquivos**"
   ]
  },
  {
   "cell_type": "code",
   "execution_count": 16,
   "id": "1a537942-02fd-422a-9541-4555e86f5ffe",
   "metadata": {
    "tags": []
   },
   "outputs": [],
   "source": [
    "list_players = pd.read_json(\"datasets/lista_jogadores_chess.json\")"
   ]
  },
  {
   "cell_type": "code",
   "execution_count": 17,
   "id": "0df3e1ff-a2b5-4714-b7b6-a811223f2d5e",
   "metadata": {
    "tags": []
   },
   "outputs": [],
   "source": [
    "# load data using Python JSON module\n",
    "with open('datasets/lista_jogadores_chess.json','r') as f:\n",
    "    data = json.loads(f.read())# Flatten data\n",
    "df_nested_list = pd.json_normalize(data, record_path =['user'])"
   ]
  },
  {
   "cell_type": "markdown",
   "id": "74eb8a23-c6a5-4440-a8cc-54a5e7492843",
   "metadata": {},
   "source": [
    "**Leando dataframes**"
   ]
  },
  {
   "cell_type": "code",
   "execution_count": 18,
   "id": "603ba0bf-1d14-43d2-bd87-db68353b9560",
   "metadata": {
    "tags": []
   },
   "outputs": [
    {
     "name": "stdout",
     "output_type": "stream",
     "text": [
      "<class 'pandas.core.frame.DataFrame'>\n",
      "RangeIndex: 1332 entries, 0 to 1331\n",
      "Data columns (total 15 columns):\n",
      " #   Column       Non-Null Count  Dtype \n",
      "---  ------       --------------  ----- \n",
      " 0   avatar       1000 non-null   object\n",
      " 1   player_id    1332 non-null   int64 \n",
      " 2   @id          1332 non-null   object\n",
      " 3   url          1332 non-null   object\n",
      " 4   name         1116 non-null   object\n",
      " 5   username     1332 non-null   object\n",
      " 6   title        1332 non-null   object\n",
      " 7   followers    1332 non-null   int64 \n",
      " 8   country      1332 non-null   object\n",
      " 9   last_online  1332 non-null   int64 \n",
      " 10  joined       1332 non-null   int64 \n",
      " 11  status       1332 non-null   object\n",
      " 12  is_streamer  1332 non-null   bool  \n",
      " 13  location     710 non-null    object\n",
      " 14  twitch_url   47 non-null     object\n",
      "dtypes: bool(1), int64(4), object(10)\n",
      "memory usage: 147.1+ KB\n"
     ]
    }
   ],
   "source": [
    "df_nested_list.info()"
   ]
  },
  {
   "cell_type": "markdown",
   "id": "86e442bc-fdf7-46e0-bd1e-a786fb5d6207",
   "metadata": {},
   "source": [
    "## Respostas"
   ]
  },
  {
   "cell_type": "code",
   "execution_count": 19,
   "id": "e73b283f-3e02-4d27-9b46-118c817f34c9",
   "metadata": {
    "tags": []
   },
   "outputs": [
    {
     "name": "stdout",
     "output_type": "stream",
     "text": [
      "<class 'pandas.core.frame.DataFrame'>\n",
      "RangeIndex: 1332 entries, 0 to 1331\n",
      "Data columns (total 15 columns):\n",
      " #   Column       Non-Null Count  Dtype \n",
      "---  ------       --------------  ----- \n",
      " 0   avatar       1000 non-null   object\n",
      " 1   player_id    1332 non-null   int64 \n",
      " 2   @id          1332 non-null   object\n",
      " 3   url          1332 non-null   object\n",
      " 4   name         1116 non-null   object\n",
      " 5   username     1332 non-null   object\n",
      " 6   title        1332 non-null   object\n",
      " 7   followers    1332 non-null   int64 \n",
      " 8   country      1332 non-null   object\n",
      " 9   last_online  1332 non-null   int64 \n",
      " 10  joined       1332 non-null   int64 \n",
      " 11  status       1332 non-null   object\n",
      " 12  is_streamer  1332 non-null   bool  \n",
      " 13  location     710 non-null    object\n",
      " 14  twitch_url   47 non-null     object\n",
      "dtypes: bool(1), int64(4), object(10)\n",
      "memory usage: 147.1+ KB\n"
     ]
    }
   ],
   "source": [
    "#Quantos registros possuem na base de dados do chess? \n",
    "df_nested_list.info()"
   ]
  },
  {
   "cell_type": "code",
   "execution_count": 20,
   "id": "cab65638-ce47-47c6-8b15-1de628574296",
   "metadata": {
    "tags": []
   },
   "outputs": [
    {
     "data": {
      "text/plain": [
       "avatar         182\n",
       "player_id      223\n",
       "@id            223\n",
       "url            223\n",
       "name           181\n",
       "username       223\n",
       "title          223\n",
       "followers      223\n",
       "country        223\n",
       "last_online    223\n",
       "joined         223\n",
       "status         223\n",
       "is_streamer    223\n",
       "location       147\n",
       "twitch_url      13\n",
       "dtype: int64"
      ]
     },
     "execution_count": 20,
     "metadata": {},
     "output_type": "execute_result"
    }
   ],
   "source": [
    "#Qual o total de jogadores que são dos Estados Unidos? \n",
    "df_nested_list.query('country == \"https://api.chess.com/pub/country/US\"').count()"
   ]
  },
  {
   "cell_type": "code",
   "execution_count": 22,
   "id": "955d02bc-17d7-430e-a914-d2a2181365b3",
   "metadata": {
    "tags": []
   },
   "outputs": [
    {
     "data": {
      "text/html": [
       "<div>\n",
       "<style scoped>\n",
       "    .dataframe tbody tr th:only-of-type {\n",
       "        vertical-align: middle;\n",
       "    }\n",
       "\n",
       "    .dataframe tbody tr th {\n",
       "        vertical-align: top;\n",
       "    }\n",
       "\n",
       "    .dataframe thead th {\n",
       "        text-align: right;\n",
       "    }\n",
       "</style>\n",
       "<table border=\"1\" class=\"dataframe\">\n",
       "  <thead>\n",
       "    <tr style=\"text-align: right;\">\n",
       "      <th></th>\n",
       "      <th>avatar</th>\n",
       "      <th>player_id</th>\n",
       "      <th>@id</th>\n",
       "      <th>url</th>\n",
       "      <th>name</th>\n",
       "      <th>username</th>\n",
       "      <th>title</th>\n",
       "      <th>followers</th>\n",
       "      <th>country</th>\n",
       "      <th>last_online</th>\n",
       "      <th>joined</th>\n",
       "      <th>status</th>\n",
       "      <th>is_streamer</th>\n",
       "      <th>location</th>\n",
       "      <th>twitch_url</th>\n",
       "    </tr>\n",
       "  </thead>\n",
       "  <tbody>\n",
       "    <tr>\n",
       "      <th>513</th>\n",
       "      <td>https://images.chesscomfiles.com/uploads/v1/us...</td>\n",
       "      <td>15558732</td>\n",
       "      <td>https://api.chess.com/pub/player/gmrafaelleitao</td>\n",
       "      <td>https://www.chess.com/member/GMRafaelLeitao</td>\n",
       "      <td>Rafael Leitao</td>\n",
       "      <td>gmrafaelleitao</td>\n",
       "      <td>GM</td>\n",
       "      <td>1707</td>\n",
       "      <td>https://api.chess.com/pub/country/BR</td>\n",
       "      <td>1616250337</td>\n",
       "      <td>1389631977</td>\n",
       "      <td>premium</td>\n",
       "      <td>True</td>\n",
       "      <td>NaN</td>\n",
       "      <td>NaN</td>\n",
       "    </tr>\n",
       "  </tbody>\n",
       "</table>\n",
       "</div>"
      ],
      "text/plain": [
       "                                                avatar  player_id  \\\n",
       "513  https://images.chesscomfiles.com/uploads/v1/us...   15558732   \n",
       "\n",
       "                                                 @id  \\\n",
       "513  https://api.chess.com/pub/player/gmrafaelleitao   \n",
       "\n",
       "                                             url           name  \\\n",
       "513  https://www.chess.com/member/GMRafaelLeitao  Rafael Leitao   \n",
       "\n",
       "           username title  followers                               country  \\\n",
       "513  gmrafaelleitao    GM       1707  https://api.chess.com/pub/country/BR   \n",
       "\n",
       "     last_online      joined   status  is_streamer location twitch_url  \n",
       "513   1616250337  1389631977  premium         True      NaN        NaN  "
      ]
     },
     "execution_count": 22,
     "metadata": {},
     "output_type": "execute_result"
    }
   ],
   "source": [
    "# Quantos seguidores (número de pessoas) possui o jogador Rafael Leitao? \n",
    "df_nested_list.query('name == \"Rafael Leitao\"')"
   ]
  },
  {
   "cell_type": "code",
   "execution_count": 28,
   "id": "ff3a2560-665b-4c99-a770-fcbb6b657b72",
   "metadata": {
    "tags": []
   },
   "outputs": [
    {
     "data": {
      "text/plain": [
       "avatar          936\n",
       "player_id      1266\n",
       "@id            1266\n",
       "url            1266\n",
       "name           1055\n",
       "username       1266\n",
       "title          1266\n",
       "followers      1266\n",
       "country        1266\n",
       "last_online    1266\n",
       "joined         1266\n",
       "status         1266\n",
       "is_streamer    1266\n",
       "location        671\n",
       "twitch_url        0\n",
       "dtype: int64"
      ]
     },
     "execution_count": 28,
     "metadata": {},
     "output_type": "execute_result"
    }
   ],
   "source": [
    "#Quantas pessoas do dataset NÃO são streamer? \n",
    "df_nested_list.query('is_streamer == False').count()\n"
   ]
  },
  {
   "cell_type": "code",
   "execution_count": 30,
   "id": "16af3662-53c3-4411-8e88-d8d83e3ff115",
   "metadata": {
    "tags": []
   },
   "outputs": [
    {
     "data": {
      "text/plain": [
       "array(['premium', 'staff', 'basic'], dtype=object)"
      ]
     },
     "execution_count": 30,
     "metadata": {},
     "output_type": "execute_result"
    }
   ],
   "source": [
    "# Quais são as classificações presentes no dataset jogadores_chess para feature status? \n",
    "df_nested_list['status'].unique()"
   ]
  },
  {
   "cell_type": "code",
   "execution_count": null,
   "id": "7518ba43-0193-4252-9a2a-95ca05ba933b",
   "metadata": {},
   "outputs": [],
   "source": [
    "#Qual a sintaxe CORRETA utilizada para criar uma coleção no MongoDB?\n"
   ]
  },
  {
   "cell_type": "code",
   "execution_count": 31,
   "id": "d3fa0a00-be30-42a4-8ed1-61de3f92ad33",
   "metadata": {
    "tags": []
   },
   "outputs": [
    {
     "data": {
      "text/html": [
       "<div>\n",
       "<style scoped>\n",
       "    .dataframe tbody tr th:only-of-type {\n",
       "        vertical-align: middle;\n",
       "    }\n",
       "\n",
       "    .dataframe tbody tr th {\n",
       "        vertical-align: top;\n",
       "    }\n",
       "\n",
       "    .dataframe thead th {\n",
       "        text-align: right;\n",
       "    }\n",
       "</style>\n",
       "<table border=\"1\" class=\"dataframe\">\n",
       "  <thead>\n",
       "    <tr style=\"text-align: right;\">\n",
       "      <th></th>\n",
       "      <th>avatar</th>\n",
       "      <th>player_id</th>\n",
       "      <th>@id</th>\n",
       "      <th>url</th>\n",
       "      <th>name</th>\n",
       "      <th>username</th>\n",
       "      <th>title</th>\n",
       "      <th>followers</th>\n",
       "      <th>country</th>\n",
       "      <th>last_online</th>\n",
       "      <th>joined</th>\n",
       "      <th>status</th>\n",
       "      <th>is_streamer</th>\n",
       "      <th>location</th>\n",
       "      <th>twitch_url</th>\n",
       "    </tr>\n",
       "  </thead>\n",
       "  <tbody>\n",
       "    <tr>\n",
       "      <th>451</th>\n",
       "      <td>https://images.chesscomfiles.com/uploads/v1/us...</td>\n",
       "      <td>13423970</td>\n",
       "      <td>https://api.chess.com/pub/player/ginger_gm</td>\n",
       "      <td>https://www.chess.com/member/Ginger_GM</td>\n",
       "      <td>Simon Williams</td>\n",
       "      <td>ginger_gm</td>\n",
       "      <td>GM</td>\n",
       "      <td>42582</td>\n",
       "      <td>https://api.chess.com/pub/country/GB</td>\n",
       "      <td>1616246258</td>\n",
       "      <td>1378461829</td>\n",
       "      <td>premium</td>\n",
       "      <td>False</td>\n",
       "      <td>Godalming</td>\n",
       "      <td>NaN</td>\n",
       "    </tr>\n",
       "    <tr>\n",
       "      <th>594</th>\n",
       "      <td>https://images.chesscomfiles.com/uploads/v1/us...</td>\n",
       "      <td>15448422</td>\n",
       "      <td>https://api.chess.com/pub/player/hikaru</td>\n",
       "      <td>https://www.chess.com/member/Hikaru</td>\n",
       "      <td>Hikaru Nakamura</td>\n",
       "      <td>hikaru</td>\n",
       "      <td>GM</td>\n",
       "      <td>645284</td>\n",
       "      <td>https://api.chess.com/pub/country/US</td>\n",
       "      <td>1616168100</td>\n",
       "      <td>1389043258</td>\n",
       "      <td>premium</td>\n",
       "      <td>True</td>\n",
       "      <td>Sunrise, Florida</td>\n",
       "      <td>https://twitch.tv/GMHikaru</td>\n",
       "    </tr>\n",
       "    <tr>\n",
       "      <th>812</th>\n",
       "      <td>https://images.chesscomfiles.com/uploads/v1/us...</td>\n",
       "      <td>3889224</td>\n",
       "      <td>https://api.chess.com/pub/player/magnuscarlsen</td>\n",
       "      <td>https://www.chess.com/member/MagnusCarlsen</td>\n",
       "      <td>Magnus Carlsen</td>\n",
       "      <td>magnuscarlsen</td>\n",
       "      <td>GM</td>\n",
       "      <td>49024</td>\n",
       "      <td>https://api.chess.com/pub/country/NO</td>\n",
       "      <td>1613860758</td>\n",
       "      <td>1282856720</td>\n",
       "      <td>premium</td>\n",
       "      <td>False</td>\n",
       "      <td>Norway</td>\n",
       "      <td>NaN</td>\n",
       "    </tr>\n",
       "  </tbody>\n",
       "</table>\n",
       "</div>"
      ],
      "text/plain": [
       "                                                avatar  player_id  \\\n",
       "451  https://images.chesscomfiles.com/uploads/v1/us...   13423970   \n",
       "594  https://images.chesscomfiles.com/uploads/v1/us...   15448422   \n",
       "812  https://images.chesscomfiles.com/uploads/v1/us...    3889224   \n",
       "\n",
       "                                                @id  \\\n",
       "451      https://api.chess.com/pub/player/ginger_gm   \n",
       "594         https://api.chess.com/pub/player/hikaru   \n",
       "812  https://api.chess.com/pub/player/magnuscarlsen   \n",
       "\n",
       "                                            url             name  \\\n",
       "451      https://www.chess.com/member/Ginger_GM   Simon Williams   \n",
       "594         https://www.chess.com/member/Hikaru  Hikaru Nakamura   \n",
       "812  https://www.chess.com/member/MagnusCarlsen   Magnus Carlsen   \n",
       "\n",
       "          username title  followers                               country  \\\n",
       "451      ginger_gm    GM      42582  https://api.chess.com/pub/country/GB   \n",
       "594         hikaru    GM     645284  https://api.chess.com/pub/country/US   \n",
       "812  magnuscarlsen    GM      49024  https://api.chess.com/pub/country/NO   \n",
       "\n",
       "     last_online      joined   status  is_streamer          location  \\\n",
       "451   1616246258  1378461829  premium        False         Godalming   \n",
       "594   1616168100  1389043258  premium         True  Sunrise, Florida   \n",
       "812   1613860758  1282856720  premium        False            Norway   \n",
       "\n",
       "                     twitch_url  \n",
       "451                         NaN  \n",
       "594  https://twitch.tv/GMHikaru  \n",
       "812                         NaN  "
      ]
     },
     "execution_count": 31,
     "metadata": {},
     "output_type": "execute_result"
    }
   ],
   "source": [
    "#Quais são os jogadores que possuem mais que 35.000 seguidores? \n",
    "df_nested_list.query('followers >= 35000')"
   ]
  },
  {
   "cell_type": "code",
   "execution_count": 32,
   "id": "d065d450-e158-43db-adc4-ddc59405fe09",
   "metadata": {
    "tags": []
   },
   "outputs": [
    {
     "data": {
      "text/html": [
       "<div>\n",
       "<style scoped>\n",
       "    .dataframe tbody tr th:only-of-type {\n",
       "        vertical-align: middle;\n",
       "    }\n",
       "\n",
       "    .dataframe tbody tr th {\n",
       "        vertical-align: top;\n",
       "    }\n",
       "\n",
       "    .dataframe thead th {\n",
       "        text-align: right;\n",
       "    }\n",
       "</style>\n",
       "<table border=\"1\" class=\"dataframe\">\n",
       "  <thead>\n",
       "    <tr style=\"text-align: right;\">\n",
       "      <th></th>\n",
       "      <th>avatar</th>\n",
       "      <th>player_id</th>\n",
       "      <th>@id</th>\n",
       "      <th>url</th>\n",
       "      <th>name</th>\n",
       "      <th>username</th>\n",
       "      <th>title</th>\n",
       "      <th>followers</th>\n",
       "      <th>country</th>\n",
       "      <th>last_online</th>\n",
       "      <th>joined</th>\n",
       "      <th>status</th>\n",
       "      <th>is_streamer</th>\n",
       "      <th>location</th>\n",
       "      <th>twitch_url</th>\n",
       "    </tr>\n",
       "  </thead>\n",
       "  <tbody>\n",
       "    <tr>\n",
       "      <th>594</th>\n",
       "      <td>https://images.chesscomfiles.com/uploads/v1/us...</td>\n",
       "      <td>15448422</td>\n",
       "      <td>https://api.chess.com/pub/player/hikaru</td>\n",
       "      <td>https://www.chess.com/member/Hikaru</td>\n",
       "      <td>Hikaru Nakamura</td>\n",
       "      <td>hikaru</td>\n",
       "      <td>GM</td>\n",
       "      <td>645284</td>\n",
       "      <td>https://api.chess.com/pub/country/US</td>\n",
       "      <td>1616168100</td>\n",
       "      <td>1389043258</td>\n",
       "      <td>premium</td>\n",
       "      <td>True</td>\n",
       "      <td>Sunrise, Florida</td>\n",
       "      <td>https://twitch.tv/GMHikaru</td>\n",
       "    </tr>\n",
       "  </tbody>\n",
       "</table>\n",
       "</div>"
      ],
      "text/plain": [
       "                                                avatar  player_id  \\\n",
       "594  https://images.chesscomfiles.com/uploads/v1/us...   15448422   \n",
       "\n",
       "                                         @id  \\\n",
       "594  https://api.chess.com/pub/player/hikaru   \n",
       "\n",
       "                                     url             name username title  \\\n",
       "594  https://www.chess.com/member/Hikaru  Hikaru Nakamura   hikaru    GM   \n",
       "\n",
       "     followers                               country  last_online      joined  \\\n",
       "594     645284  https://api.chess.com/pub/country/US   1616168100  1389043258   \n",
       "\n",
       "      status  is_streamer          location                  twitch_url  \n",
       "594  premium         True  Sunrise, Florida  https://twitch.tv/GMHikaru  "
      ]
     },
     "execution_count": 32,
     "metadata": {},
     "output_type": "execute_result"
    }
   ],
   "source": [
    "# Quais são os jogadores que possuem mais que 50.000 seguidores e sua localização? \n",
    "df_nested_list.query('followers > 50000')"
   ]
  },
  {
   "cell_type": "code",
   "execution_count": 33,
   "id": "7b573bff-60b6-427a-a553-b76901b32338",
   "metadata": {
    "tags": []
   },
   "outputs": [
    {
     "data": {
      "text/html": [
       "<div>\n",
       "<style scoped>\n",
       "    .dataframe tbody tr th:only-of-type {\n",
       "        vertical-align: middle;\n",
       "    }\n",
       "\n",
       "    .dataframe tbody tr th {\n",
       "        vertical-align: top;\n",
       "    }\n",
       "\n",
       "    .dataframe thead th {\n",
       "        text-align: right;\n",
       "    }\n",
       "</style>\n",
       "<table border=\"1\" class=\"dataframe\">\n",
       "  <thead>\n",
       "    <tr style=\"text-align: right;\">\n",
       "      <th></th>\n",
       "      <th>avatar</th>\n",
       "      <th>player_id</th>\n",
       "      <th>@id</th>\n",
       "      <th>url</th>\n",
       "      <th>name</th>\n",
       "      <th>username</th>\n",
       "      <th>title</th>\n",
       "      <th>followers</th>\n",
       "      <th>country</th>\n",
       "      <th>last_online</th>\n",
       "      <th>joined</th>\n",
       "      <th>status</th>\n",
       "      <th>is_streamer</th>\n",
       "      <th>location</th>\n",
       "      <th>twitch_url</th>\n",
       "    </tr>\n",
       "  </thead>\n",
       "  <tbody>\n",
       "    <tr>\n",
       "      <th>693</th>\n",
       "      <td>NaN</td>\n",
       "      <td>18667552</td>\n",
       "      <td>https://api.chess.com/pub/player/jvferreira</td>\n",
       "      <td>https://www.chess.com/member/JVFerreira</td>\n",
       "      <td>Jorge Ferreira</td>\n",
       "      <td>jvferreira</td>\n",
       "      <td>GM</td>\n",
       "      <td>27</td>\n",
       "      <td>https://api.chess.com/pub/country/PT</td>\n",
       "      <td>1609890955</td>\n",
       "      <td>1409174170</td>\n",
       "      <td>premium</td>\n",
       "      <td>False</td>\n",
       "      <td>Porto</td>\n",
       "      <td>NaN</td>\n",
       "    </tr>\n",
       "  </tbody>\n",
       "</table>\n",
       "</div>"
      ],
      "text/plain": [
       "    avatar  player_id                                          @id  \\\n",
       "693    NaN   18667552  https://api.chess.com/pub/player/jvferreira   \n",
       "\n",
       "                                         url            name    username  \\\n",
       "693  https://www.chess.com/member/JVFerreira  Jorge Ferreira  jvferreira   \n",
       "\n",
       "    title  followers                               country  last_online  \\\n",
       "693    GM         27  https://api.chess.com/pub/country/PT   1609890955   \n",
       "\n",
       "         joined   status  is_streamer location twitch_url  \n",
       "693  1409174170  premium        False    Porto        NaN  "
      ]
     },
     "execution_count": 33,
     "metadata": {},
     "output_type": "execute_result"
    }
   ],
   "source": [
    "#Qual a localização do jogador Jorge Ferreira?\n",
    "df_nested_list.query('name == \"Jorge Ferreira\"')"
   ]
  }
 ],
 "metadata": {
  "kernelspec": {
   "display_name": "Python 3 (ipykernel)",
   "language": "python",
   "name": "python3"
  },
  "language_info": {
   "codemirror_mode": {
    "name": "ipython",
    "version": 3
   },
   "file_extension": ".py",
   "mimetype": "text/x-python",
   "name": "python",
   "nbconvert_exporter": "python",
   "pygments_lexer": "ipython3",
   "version": "3.10.6"
  }
 },
 "nbformat": 4,
 "nbformat_minor": 5
}
