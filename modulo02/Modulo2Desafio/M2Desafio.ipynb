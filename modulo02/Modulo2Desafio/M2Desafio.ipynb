{
 "cells": [
  {
   "cell_type": "code",
   "execution_count": 16,
   "id": "4e064e8c-e103-4552-979c-599daf253abe",
   "metadata": {
    "tags": []
   },
   "outputs": [],
   "source": [
    "import pandas as pd\n",
    "import json"
   ]
  },
  {
   "cell_type": "markdown",
   "id": "12ff84cf-c682-42ad-b612-045f510ea600",
   "metadata": {},
   "source": [
    "**Abrinado os arquivos**"
   ]
  },
  {
   "cell_type": "code",
   "execution_count": 3,
   "id": "f1a2e8c3-709a-4101-97c1-7562f23c8e93",
   "metadata": {
    "tags": []
   },
   "outputs": [],
   "source": [
    "dados_players = pd.read_csv(\"datasets/dados_jogadores.csv\", sep=';', encoding='latin-1')"
   ]
  },
  {
   "cell_type": "code",
   "execution_count": 14,
   "id": "1a537942-02fd-422a-9541-4555e86f5ffe",
   "metadata": {
    "tags": []
   },
   "outputs": [],
   "source": [
    "list_players = pd.read_json(\"datasets/lista_jogadores_chess.json\")"
   ]
  },
  {
   "cell_type": "code",
   "execution_count": 17,
   "id": "0df3e1ff-a2b5-4714-b7b6-a811223f2d5e",
   "metadata": {
    "tags": []
   },
   "outputs": [],
   "source": [
    "# load data using Python JSON module\n",
    "with open('datasets/lista_jogadores_chess.json','r') as f:\n",
    "    data = json.loads(f.read())# Flatten data\n",
    "df_nested_list = pd.json_normalize(data, record_path =['user'])"
   ]
  },
  {
   "cell_type": "markdown",
   "id": "74eb8a23-c6a5-4440-a8cc-54a5e7492843",
   "metadata": {},
   "source": [
    "**Leando dataframes**"
   ]
  },
  {
   "cell_type": "code",
   "execution_count": 20,
   "id": "1d49cbf7-3e5f-4634-9cb1-bb31a65c884f",
   "metadata": {
    "tags": []
   },
   "outputs": [
    {
     "name": "stdout",
     "output_type": "stream",
     "text": [
      "<class 'pandas.core.frame.DataFrame'>\n",
      "RangeIndex: 499 entries, 0 to 498\n",
      "Data columns (total 8 columns):\n",
      " #   Column           Non-Null Count  Dtype  \n",
      "---  ------           --------------  -----  \n",
      " 0   jogador          499 non-null    object \n",
      " 1   genero           499 non-null    object \n",
      " 2   data_nascimento  499 non-null    object \n",
      " 3   jogo             499 non-null    object \n",
      " 4   pais             499 non-null    object \n",
      " 5   num_vitorias     491 non-null    float64\n",
      " 6   num_derrotas     494 non-null    float64\n",
      " 7   total_partidas   491 non-null    float64\n",
      "dtypes: float64(3), object(5)\n",
      "memory usage: 31.3+ KB\n"
     ]
    }
   ],
   "source": [
    "dados_players.info()"
   ]
  },
  {
   "cell_type": "code",
   "execution_count": 21,
   "id": "603ba0bf-1d14-43d2-bd87-db68353b9560",
   "metadata": {
    "tags": []
   },
   "outputs": [
    {
     "data": {
      "text/html": [
       "<div>\n",
       "<style scoped>\n",
       "    .dataframe tbody tr th:only-of-type {\n",
       "        vertical-align: middle;\n",
       "    }\n",
       "\n",
       "    .dataframe tbody tr th {\n",
       "        vertical-align: top;\n",
       "    }\n",
       "\n",
       "    .dataframe thead th {\n",
       "        text-align: right;\n",
       "    }\n",
       "</style>\n",
       "<table border=\"1\" class=\"dataframe\">\n",
       "  <thead>\n",
       "    <tr style=\"text-align: right;\">\n",
       "      <th></th>\n",
       "      <th>avatar</th>\n",
       "      <th>player_id</th>\n",
       "      <th>@id</th>\n",
       "      <th>url</th>\n",
       "      <th>name</th>\n",
       "      <th>username</th>\n",
       "      <th>title</th>\n",
       "      <th>followers</th>\n",
       "      <th>country</th>\n",
       "      <th>last_online</th>\n",
       "      <th>joined</th>\n",
       "      <th>status</th>\n",
       "      <th>is_streamer</th>\n",
       "      <th>location</th>\n",
       "      <th>twitch_url</th>\n",
       "    </tr>\n",
       "  </thead>\n",
       "  <tbody>\n",
       "    <tr>\n",
       "      <th>0</th>\n",
       "      <td>https://images.chesscomfiles.com/uploads/v1/us...</td>\n",
       "      <td>18800602</td>\n",
       "      <td>https://api.chess.com/pub/player/123lt</td>\n",
       "      <td>https://www.chess.com/member/123lt</td>\n",
       "      <td>Tingjie Lei</td>\n",
       "      <td>123lt</td>\n",
       "      <td>GM</td>\n",
       "      <td>36</td>\n",
       "      <td>https://api.chess.com/pub/country/CN</td>\n",
       "      <td>1615967972</td>\n",
       "      <td>1410059361</td>\n",
       "      <td>premium</td>\n",
       "      <td>False</td>\n",
       "      <td>NaN</td>\n",
       "      <td>NaN</td>\n",
       "    </tr>\n",
       "    <tr>\n",
       "      <th>1</th>\n",
       "      <td>https://images.chesscomfiles.com/uploads/v1/us...</td>\n",
       "      <td>29499974</td>\n",
       "      <td>https://api.chess.com/pub/player/124chess</td>\n",
       "      <td>https://www.chess.com/member/124chess</td>\n",
       "      <td>Дмитрий Хегай</td>\n",
       "      <td>124chess</td>\n",
       "      <td>GM</td>\n",
       "      <td>87</td>\n",
       "      <td>https://api.chess.com/pub/country/RU</td>\n",
       "      <td>1616173422</td>\n",
       "      <td>1471316272</td>\n",
       "      <td>premium</td>\n",
       "      <td>False</td>\n",
       "      <td>Красноярск</td>\n",
       "      <td>NaN</td>\n",
       "    </tr>\n",
       "    <tr>\n",
       "      <th>2</th>\n",
       "      <td>https://images.chesscomfiles.com/uploads/v1/us...</td>\n",
       "      <td>30610578</td>\n",
       "      <td>https://api.chess.com/pub/player/1977ivan</td>\n",
       "      <td>https://www.chess.com/member/1977Ivan</td>\n",
       "      <td>Ivan Ivanisevic</td>\n",
       "      <td>1977ivan</td>\n",
       "      <td>GM</td>\n",
       "      <td>120</td>\n",
       "      <td>https://api.chess.com/pub/country/RS</td>\n",
       "      <td>1616110240</td>\n",
       "      <td>1477565847</td>\n",
       "      <td>premium</td>\n",
       "      <td>False</td>\n",
       "      <td>Belgrade</td>\n",
       "      <td>NaN</td>\n",
       "    </tr>\n",
       "    <tr>\n",
       "      <th>3</th>\n",
       "      <td>https://images.chesscomfiles.com/uploads/v1/us...</td>\n",
       "      <td>13013662</td>\n",
       "      <td>https://api.chess.com/pub/player/1stsecond</td>\n",
       "      <td>https://www.chess.com/member/1stSecond</td>\n",
       "      <td>Nikita Meshkovs</td>\n",
       "      <td>1stsecond</td>\n",
       "      <td>GM</td>\n",
       "      <td>716</td>\n",
       "      <td>https://api.chess.com/pub/country/LV</td>\n",
       "      <td>1616192647</td>\n",
       "      <td>1375617889</td>\n",
       "      <td>premium</td>\n",
       "      <td>False</td>\n",
       "      <td>Riga</td>\n",
       "      <td>NaN</td>\n",
       "    </tr>\n",
       "    <tr>\n",
       "      <th>4</th>\n",
       "      <td>https://images.chesscomfiles.com/uploads/v1/us...</td>\n",
       "      <td>39230304</td>\n",
       "      <td>https://api.chess.com/pub/player/2nd_life</td>\n",
       "      <td>https://www.chess.com/member/2nd_life</td>\n",
       "      <td>Florian Jenni</td>\n",
       "      <td>2nd_life</td>\n",
       "      <td>GM</td>\n",
       "      <td>25</td>\n",
       "      <td>https://api.chess.com/pub/country/CH</td>\n",
       "      <td>1615926963</td>\n",
       "      <td>1507311109</td>\n",
       "      <td>premium</td>\n",
       "      <td>False</td>\n",
       "      <td>Zurich</td>\n",
       "      <td>NaN</td>\n",
       "    </tr>\n",
       "  </tbody>\n",
       "</table>\n",
       "</div>"
      ],
      "text/plain": [
       "                                              avatar  player_id  \\\n",
       "0  https://images.chesscomfiles.com/uploads/v1/us...   18800602   \n",
       "1  https://images.chesscomfiles.com/uploads/v1/us...   29499974   \n",
       "2  https://images.chesscomfiles.com/uploads/v1/us...   30610578   \n",
       "3  https://images.chesscomfiles.com/uploads/v1/us...   13013662   \n",
       "4  https://images.chesscomfiles.com/uploads/v1/us...   39230304   \n",
       "\n",
       "                                          @id  \\\n",
       "0      https://api.chess.com/pub/player/123lt   \n",
       "1   https://api.chess.com/pub/player/124chess   \n",
       "2   https://api.chess.com/pub/player/1977ivan   \n",
       "3  https://api.chess.com/pub/player/1stsecond   \n",
       "4   https://api.chess.com/pub/player/2nd_life   \n",
       "\n",
       "                                      url             name   username title  \\\n",
       "0      https://www.chess.com/member/123lt      Tingjie Lei      123lt    GM   \n",
       "1   https://www.chess.com/member/124chess    Дмитрий Хегай   124chess    GM   \n",
       "2   https://www.chess.com/member/1977Ivan  Ivan Ivanisevic   1977ivan    GM   \n",
       "3  https://www.chess.com/member/1stSecond  Nikita Meshkovs  1stsecond    GM   \n",
       "4   https://www.chess.com/member/2nd_life    Florian Jenni   2nd_life    GM   \n",
       "\n",
       "   followers                               country  last_online      joined  \\\n",
       "0         36  https://api.chess.com/pub/country/CN   1615967972  1410059361   \n",
       "1         87  https://api.chess.com/pub/country/RU   1616173422  1471316272   \n",
       "2        120  https://api.chess.com/pub/country/RS   1616110240  1477565847   \n",
       "3        716  https://api.chess.com/pub/country/LV   1616192647  1375617889   \n",
       "4         25  https://api.chess.com/pub/country/CH   1615926963  1507311109   \n",
       "\n",
       "    status  is_streamer    location twitch_url  \n",
       "0  premium        False         NaN        NaN  \n",
       "1  premium        False  Красноярск        NaN  \n",
       "2  premium        False    Belgrade        NaN  \n",
       "3  premium        False        Riga        NaN  \n",
       "4  premium        False      Zurich        NaN  "
      ]
     },
     "execution_count": 21,
     "metadata": {},
     "output_type": "execute_result"
    }
   ],
   "source": [
    "df_nested_list.head()"
   ]
  },
  {
   "cell_type": "markdown",
   "id": "86e442bc-fdf7-46e0-bd1e-a786fb5d6207",
   "metadata": {},
   "source": [
    "## Respostas"
   ]
  },
  {
   "cell_type": "code",
   "execution_count": 24,
   "id": "e73b283f-3e02-4d27-9b46-118c817f34c9",
   "metadata": {
    "tags": []
   },
   "outputs": [
    {
     "data": {
      "text/plain": [
       "pais\n",
       "Chile        28.193878\n",
       "Argentina    25.897727\n",
       "Brasil       25.535354\n",
       "Uruguai      24.080460\n",
       "Paraguai     22.554622\n",
       "Name: num_vitorias, dtype: float64"
      ]
     },
     "execution_count": 24,
     "metadata": {},
     "output_type": "execute_result"
    }
   ],
   "source": [
    "#Qual o país que está em segundo lugar no ranking da média gral de vitórias? (independente do jogo)\n",
    "dados_players.groupby('pais')['num_vitorias'].mean().sort_values(ascending=False)"
   ]
  }
 ],
 "metadata": {
  "kernelspec": {
   "display_name": "Python 3 (ipykernel)",
   "language": "python",
   "name": "python3"
  },
  "language_info": {
   "codemirror_mode": {
    "name": "ipython",
    "version": 3
   },
   "file_extension": ".py",
   "mimetype": "text/x-python",
   "name": "python",
   "nbconvert_exporter": "python",
   "pygments_lexer": "ipython3",
   "version": "3.10.6"
  }
 },
 "nbformat": 4,
 "nbformat_minor": 5
}
