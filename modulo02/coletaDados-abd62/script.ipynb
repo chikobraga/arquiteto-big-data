{
 "cells": [
  {
   "cell_type": "markdown",
   "metadata": {},
   "source": [
    "# Leitura dos Dataset's"
   ]
  },
  {
   "cell_type": "code",
   "execution_count": null,
   "metadata": {},
   "outputs": [],
   "source": [
    "import pandas as pd\n",
    "import os"
   ]
  },
  {
   "cell_type": "code",
   "execution_count": null,
   "metadata": {},
   "outputs": [],
   "source": [
    "df_list = []\n",
    "\n",
    "# Caminho dos arquivos .csv\n",
    "pathFiles = os.getcwd() + '\\\\data'\n",
    "\n",
    "for file in os.listdir(pathFiles):\n",
    "    filePath = os.path.join(pathFiles, file)\n",
    "    df = pd.read_csv(filePath, sep=';', encoding='latin-1')\n",
    "    df_list.append(df)\n",
    "    #print(filePath)\n",
    "\n",
    "df = pd.concat(df_list)\n",
    "df.reset_index(drop=True, inplace=True)\n",
    "df[:20]\n"
   ]
  },
  {
   "cell_type": "markdown",
   "metadata": {},
   "source": [
    "# Conexão com MySQL"
   ]
  },
  {
   "cell_type": "code",
   "execution_count": null,
   "metadata": {},
   "outputs": [],
   "source": [
    "import MySQLdb\n",
    "import sqlalchemy\n",
    "from sqlalchemy import text"
   ]
  },
  {
   "cell_type": "markdown",
   "metadata": {},
   "source": [
    "Informações do servidor do banco de dados"
   ]
  },
  {
   "cell_type": "code",
   "execution_count": null,
   "metadata": {},
   "outputs": [],
   "source": [
    "user = 'root'\n",
    "password = 'mysqlpwd'\n",
    "host = 'localhost'\n",
    "database = 'coletaIGTI'\n",
    "\n",
    "string_conexao = f'mysql://{user}:{password}@{host}/{database}'\n",
    "string_conexao"
   ]
  },
  {
   "cell_type": "markdown",
   "metadata": {},
   "source": [
    "Abre a conexão com o banco de dados"
   ]
  },
  {
   "cell_type": "code",
   "execution_count": null,
   "metadata": {},
   "outputs": [],
   "source": [
    "engine = sqlalchemy.create_engine(string_conexao)\n",
    "conn = engine.connect()"
   ]
  },
  {
   "cell_type": "code",
   "execution_count": null,
   "metadata": {},
   "outputs": [],
   "source": [
    "# Dataframes de pessoas e modelos\n",
    "df_pessoas = df[['cod_pessoa', 'nome', 'genero', 'data_nascimento']].drop_duplicates()\n",
    "df_modelos = df[['modelo', 'fabricante']].drop_duplicates()\n",
    "\n",
    "# Criado como uma lista pois possui apenas uma coluna\n",
    "fabricantes = list(df.fabricante.unique())"
   ]
  },
  {
   "cell_type": "markdown",
   "metadata": {},
   "source": [
    "Conferindo uma amostra dos dados"
   ]
  },
  {
   "cell_type": "code",
   "execution_count": null,
   "metadata": {},
   "outputs": [],
   "source": [
    "df_pessoas[:10]"
   ]
  },
  {
   "cell_type": "code",
   "execution_count": null,
   "metadata": {},
   "outputs": [],
   "source": [
    "df_modelos[:10]"
   ]
  },
  {
   "cell_type": "code",
   "execution_count": null,
   "metadata": {},
   "outputs": [],
   "source": [
    "fabricantes"
   ]
  },
  {
   "cell_type": "markdown",
   "metadata": {},
   "source": [
    "Insere os dados na tabela <i>pessoa</i>"
   ]
  },
  {
   "cell_type": "code",
   "execution_count": null,
   "metadata": {},
   "outputs": [],
   "source": [
    "for pessoa in df_pessoas.itertuples():\n",
    "    cod_pessoa = pessoa.cod_pessoa\n",
    "    nome = pessoa.nome\n",
    "    genero = pessoa.genero\n",
    "    data_nascimento = str(pessoa.data_nascimento)\n",
    "    try:\n",
    "        query = f\"\"\"insert into pessoa (cod_pessoa, nome, genero, data_nascimento) values \n",
    "                    ('{cod_pessoa}', '{nome}', '{genero}', '{data_nascimento}')\"\"\"\n",
    "        conn.execute(text(query))\n",
    "        conn.commit()\n",
    "        print(f'Registro inserido com sucesso: {nome}')\n",
    "\n",
    "    except Exception as e:\n",
    "        print(f'Não foi possível inserir o registro {nome}. O erro encontrado foi: {e}.')"
   ]
  },
  {
   "cell_type": "code",
   "execution_count": null,
   "metadata": {},
   "outputs": [],
   "source": [
    "# Confirma toda a transação realizada no banco de dados\n",
    "conn.commit()"
   ]
  },
  {
   "cell_type": "markdown",
   "metadata": {},
   "source": [
    "Insere os dados na tabela <i>fabricante</i>"
   ]
  },
  {
   "cell_type": "code",
   "execution_count": null,
   "metadata": {},
   "outputs": [],
   "source": [
    "for fabricante in fabricantes:\n",
    "    try:\n",
    "        query = f\"insert into fabricante (nome_fabricante) values ('{fabricante}')\"\n",
    "        conn.execute(text(query))\n",
    "        conn.commit()\n",
    "        print(f'Registro inserido com sucesso: {fabricante}')\n",
    "\n",
    "    except Exception as e:\n",
    "        print(f'Não foi possível inserir o registro {fabricante}. O erro encontrado foi: {e}.')"
   ]
  },
  {
   "cell_type": "code",
   "execution_count": null,
   "metadata": {},
   "outputs": [],
   "source": [
    "# Confirma toda a transação realizada no banco de dados\n",
    "conn.commit()"
   ]
  },
  {
   "cell_type": "code",
   "execution_count": null,
   "metadata": {},
   "outputs": [],
   "source": [
    "# Busca os fabricantes no banco de dados\n",
    "df_fabricante = pd.read_sql('fabricante', con = conn)"
   ]
  },
  {
   "cell_type": "code",
   "execution_count": null,
   "metadata": {},
   "outputs": [],
   "source": [
    "df_fabricante"
   ]
  },
  {
   "cell_type": "markdown",
   "metadata": {},
   "source": [
    "Transforma o dataframe em uma collection dictionary para facilitar a busca para inserir os dados de modelos"
   ]
  },
  {
   "cell_type": "code",
   "execution_count": null,
   "metadata": {},
   "outputs": [],
   "source": [
    "dict_fabricante = df_fabricante.set_index(df_fabricante.nome_fabricante)['cod_fabricante'].to_dict()\n",
    "dict_fabricante"
   ]
  },
  {
   "cell_type": "markdown",
   "metadata": {},
   "source": [
    "Realiza um map para associar o código do fabricante no dataframe de modelos"
   ]
  },
  {
   "cell_type": "code",
   "execution_count": null,
   "metadata": {},
   "outputs": [],
   "source": [
    "df_modelos.fabricante = df_modelos.fabricante.map(dict_fabricante)\n",
    "df_modelos"
   ]
  },
  {
   "cell_type": "markdown",
   "metadata": {},
   "source": [
    "Feito o map, renomeia o nome da coluna"
   ]
  },
  {
   "cell_type": "code",
   "execution_count": null,
   "metadata": {},
   "outputs": [],
   "source": [
    "df_modelos.rename(columns={'fabricante':'cod_fabricante'}, inplace=True)\n",
    "df_modelos"
   ]
  },
  {
   "cell_type": "markdown",
   "metadata": {},
   "source": [
    "Insere os dados na tabela <i>modelo_veiculo</i>"
   ]
  },
  {
   "cell_type": "code",
   "execution_count": null,
   "metadata": {},
   "outputs": [],
   "source": [
    "for modelo in df_modelos.itertuples():\n",
    "    nome_modelo = modelo.modelo\n",
    "    cod_fabricante = modelo.cod_fabricante\n",
    "    try:\n",
    "        query = f\"\"\"insert into modelo_veiculo (descricao_modelo, cod_fabricante) values \n",
    "                    ('{nome_modelo}', {cod_fabricante})\"\"\"\n",
    "        conn.execute(text(query))\n",
    "        conn.commit()\n",
    "        print(f'Registro inserido com sucesso: {nome_modelo}')\n",
    "\n",
    "    except Exception as e:\n",
    "        print(f'Não foi possível inserir o registro {nome_modelo}. O erro encontrado foi: {e}.')"
   ]
  },
  {
   "cell_type": "code",
   "execution_count": null,
   "metadata": {},
   "outputs": [],
   "source": [
    "# Confirma toda a transação realizada no banco de dados\n",
    "conn.commit()"
   ]
  },
  {
   "cell_type": "markdown",
   "metadata": {},
   "source": [
    "# Criando um ambiente de Staging\n",
    "Essa é uma outra forma de se trabalhar com os dados no banco de dados. Jogamos todo o dataframe original no banco de dados, e tratamos todas as informações dentro do próprio banco de dados, populando as tabelas necessárias"
   ]
  },
  {
   "cell_type": "code",
   "execution_count": null,
   "metadata": {},
   "outputs": [],
   "source": [
    "df.to_sql('stg_venda_veiculo', con=conn, schema='coletaIGTI', if_exists='replace', index=False)"
   ]
  },
  {
   "cell_type": "code",
   "execution_count": null,
   "metadata": {},
   "outputs": [],
   "source": [
    "# Confirma toda a transação realizada no banco de dados\n",
    "conn.commit()"
   ]
  },
  {
   "cell_type": "markdown",
   "metadata": {},
   "source": [
    "# !!! - Importante - !!!\n",
    "Ao terminar todo o procedimento, não esqueça de fechar a conexão com o banco de dados, evitando problemas futuros de performance, memória e sobrecarregamento do banco. ;)"
   ]
  },
  {
   "cell_type": "code",
   "execution_count": null,
   "metadata": {},
   "outputs": [],
   "source": [
    "# Fecha a conexão com o banco de dados\n",
    "conn.close()"
   ]
  }
 ],
 "metadata": {
  "kernelspec": {
   "display_name": "Python 3 (ipykernel)",
   "language": "python",
   "name": "python3"
  },
  "language_info": {
   "codemirror_mode": {
    "name": "ipython",
    "version": 3
   },
   "file_extension": ".py",
   "mimetype": "text/x-python",
   "name": "python",
   "nbconvert_exporter": "python",
   "pygments_lexer": "ipython3",
   "version": "3.10.6"
  }
 },
 "nbformat": 4,
 "nbformat_minor": 4
}
